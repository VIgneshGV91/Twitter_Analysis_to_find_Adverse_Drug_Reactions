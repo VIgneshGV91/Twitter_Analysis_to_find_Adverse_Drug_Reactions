{
 "cells": [
  {
   "cell_type": "code",
   "execution_count": null,
   "metadata": {
    "collapsed": true
   },
   "outputs": [],
   "source": [
    "sentences = countvectorizer. transform([\"zyrtec and claritin say they're non-drowsy but they work better than lunesta for sleep f\n",
    "\"@rattusdingus I tried claritin but it messes with my blood pressure. Zyrtec has worked really well for me though. It only has 12\n",
    "\"@killianczuba Is it that good? I feel like even non-drowsy formulas of Claritin make me sleepy, so idk. It might just be how my\n",
    "\"RT @offmyplanepunk: @squidbilly929 At this point Iâem just snorting Claritin and Flonase every morning and night.\",\n",
    "\"Need to get back on that Claritin clear allergy season is here ay,\",\n",
    "\"The weather is changing and I love it, but I don't love the allergies. Stepped outside and my eyes were watering so bad it looke\n",
    "\"if our love is allergy then why are you my claritin\",\n",
    "\"@tricksythieves Claritin typically works for me if you're looking for cat allergy relief!\",\n",
    "\"@elevenelevenths i mean so i start to get small spots all over my body and it only occurs when iãem hot sons probably just\"])\n",
    "clf.predict_proba(sentences)"
   ]
  },
  {
   "cell_type": "code",
   "execution_count": null,
   "metadata": {
    "collapsed": true
   },
   "outputs": [],
   "source": [
    "import csv\n",
    "class Filter DataFrame:\n",
    "    def filter_data_frame (self, filters):\n",
    "        for fil in filters:\n",
    "            filtered_rows =[]\n",
    "            row_numbers=[]\n",
    "            with open('Claritin Negative Tweets Classified.csv', \"r\") as f:\n",
    "                reader csv.reader (f)\n",
    "\n",
    "                for row in reader:\n",
    "                    for col in row:\n",
    "                        if file in col:\n",
    "                            filtered rows.append (row)\n",
    "                            row_numbers.append(row[0])\n",
    "                            break\n",
    "\n",
    "            print(\"\\n Rows filtered by : \", fil)\n",
    "            for filtered_row in filtered_rows:\n",
    "                print (filtered_row)\n",
    "            print(\"\\n Rows numbers filtered by :\", fil)\n",
    "            print (row numbers)\n",
    "if name = \"main_\":\n",
    "    filterobj = FilterDataFrame()\n",
    "    filters= ['drowsy', 'sleep', 'headache', 'blood', 'Anemia', 'Angioedema', 'Bone', 'fractures', 'Blood', 'clots',\n",
    "    'Confusion', 'drowsiness', 'white','infection', 'Kidney', 'damage', 'Liver',\n",
    "    'Ventricular','tachycardia', 'Toxic','epidermal', 'necrolysis','ulcers', 'Muscle','fatigue', 'vomiting', 'nausea', 'diarrhoea',\n",
    "    'xerostomia', 'blurred', 'vision', 'photophobia', 'urin', 'hyperthermia', 'glaucoma', 'mental', 'confusion', 'dehydrated', 'Hypersensitivity',\n",
    "    'abnormal', 'Therapeutic', 'nausea', 'dyspnoea', 'vomit', 'myocardial','infarction', 'pyrexia', 'convulsion','malaise', 'asthenia',\n",
    "    'cardiac', 'tachycardia', 'edema', 'miosis','menstrual', 'anxiety','insomnia', 'otitis','infection', 'coochie','bleed', 'blood', 'pressure',\n",
    "    'rash', 'spots ']\n",
    "    filterobj.filter_data_fame(filters)"
   ]
  }
 ],
 "metadata": {
  "kernelspec": {
   "display_name": "Python 3",
   "language": "python",
   "name": "python3"
  },
  "language_info": {
   "codemirror_mode": {
    "name": "ipython",
    "version": 3
   },
   "file_extension": ".py",
   "mimetype": "text/x-python",
   "name": "python",
   "nbconvert_exporter": "python",
   "pygments_lexer": "ipython3",
   "version": "3.6.2"
  }
 },
 "nbformat": 4,
 "nbformat_minor": 2
}
